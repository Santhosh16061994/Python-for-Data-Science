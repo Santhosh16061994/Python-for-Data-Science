{
  "nbformat": 4,
  "nbformat_minor": 0,
  "metadata": {
    "colab": {
      "provenance": []
    },
    "kernelspec": {
      "name": "python3",
      "display_name": "Python 3"
    },
    "language_info": {
      "name": "python"
    }
  },
  "cells": [
    {
      "cell_type": "code",
      "source": [],
      "metadata": {
        "id": "lB6TbBqJRt93"
      },
      "execution_count": null,
      "outputs": []
    },
    {
      "cell_type": "code",
      "execution_count": 2,
      "metadata": {
        "colab": {
          "base_uri": "https://localhost:8080/"
        },
        "id": "QdZPbuLbRQtL",
        "outputId": "cd29ee18-2467-4268-b16c-cf7aec0da3be"
      },
      "outputs": [
        {
          "name": "stdout",
          "output_type": "stream",
          "text": [
            "enter the price of laptop20000\n",
            "enter the price of laptop30000\n",
            "enter the price of laptop40000\n",
            "enter the price of laptop50000\n",
            "enter the price of laptop60000\n"
          ]
        }
      ],
      "source": [
        "laptop1 = int(input('enter the price of laptop'))\n",
        "laptop2 = int(input('enter the price of laptop'))\n",
        "laptop3 = int(input('enter the price of laptop'))\n",
        "laptop4 = int(input('enter the price of laptop'))\n",
        "laptop5 = int(input('enter the price of laptop'))\n"
      ]
    },
    {
      "cell_type": "markdown",
      "source": [
        "efficent way of write the code\n",
        "loops is used to repeat certain action again and again\n",
        "\n",
        "to make same action again and again\n",
        "on a cosise way"
      ],
      "metadata": {
        "id": "e1vYhEU6R9Cc"
      }
    },
    {
      "cell_type": "code",
      "source": [
        "for i in range(5): \n",
        "  laptop_price = int(input('enter the price of laptop'))\n",
        "  # index is 012345 \n",
        "  #i inste we can use j\n",
        "\n"
      ],
      "metadata": {
        "colab": {
          "base_uri": "https://localhost:8080/"
        },
        "id": "7fj86bryRb5d",
        "outputId": "2ce605ac-0564-4ae3-ec7a-2ccbd9aef068"
      },
      "execution_count": 5,
      "outputs": [
        {
          "name": "stdout",
          "output_type": "stream",
          "text": [
            "enter the price of laptop 10000\n",
            "enter the price of laptop 222222\n",
            "enter the price of laptop333333\n",
            "enter the price of laptop444444\n",
            "enter the price of laptop5555555\n"
          ]
        }
      ]
    },
    {
      "cell_type": "code",
      "source": [
        "for j in range(5): \n",
        "  laptop_price = int(input('enter the price of laptop'))\n",
        "  # index is 012345 \n",
        "  #i inste we can use j\n",
        "  # put 7 it will run up to 7\n"
      ],
      "metadata": {
        "colab": {
          "base_uri": "https://localhost:8080/"
        },
        "id": "wSKXL9BQTGK0",
        "outputId": "a5751298-347c-4038-d639-beaa3fa89229"
      },
      "execution_count": 6,
      "outputs": [
        {
          "name": "stdout",
          "output_type": "stream",
          "text": [
            "enter the price of laptop11111\n",
            "enter the price of laptop22222\n",
            "enter the price of laptop33333\n",
            "enter the price of laptop44444\n",
            "enter the price of laptop55555\n"
          ]
        }
      ]
    },
    {
      "cell_type": "code",
      "source": [
        "for j in range(7): \n",
        "  laptop_price = int(input('enter the price of laptop'))\n",
        "  # index is 012345 \n",
        "  #i inste we can use j\n",
        "  # put 7 it will run up to 7 times\n"
      ],
      "metadata": {
        "colab": {
          "base_uri": "https://localhost:8080/"
        },
        "id": "t9SFdVzvSns8",
        "outputId": "5e1a5834-e87e-4640-97d4-21744128e3c9"
      },
      "execution_count": 7,
      "outputs": [
        {
          "name": "stdout",
          "output_type": "stream",
          "text": [
            "enter the price of laptop1\n",
            "enter the price of laptop2\n",
            "enter the price of laptop3\n",
            "enter the price of laptop4\n",
            "enter the price of laptop5\n",
            "enter the price of laptop6\n",
            "enter the price of laptop7\n"
          ]
        }
      ]
    },
    {
      "cell_type": "code",
      "source": [
        "numbers = [50, 100, 150, 200]\n",
        "\n",
        "print(numbers[0])\n",
        "print(numbers[1])\n",
        "print(numbers[2])\n",
        "print(numbers[3])\n",
        "\n"
      ],
      "metadata": {
        "colab": {
          "base_uri": "https://localhost:8080/"
        },
        "id": "RVhnqF7gTfgv",
        "outputId": "1e1edd85-6255-4d66-93dd-d85329cb3c86"
      },
      "execution_count": 10,
      "outputs": [
        {
          "output_type": "stream",
          "name": "stdout",
          "text": [
            "50\n",
            "100\n",
            "150\n",
            "200\n"
          ]
        }
      ]
    },
    {
      "cell_type": "markdown",
      "source": [
        "for above we can use for loop method"
      ],
      "metadata": {
        "id": "BuaFIo7uT6nm"
      }
    },
    {
      "cell_type": "code",
      "source": [
        "numbers = [50, 100, 150, 200]\n",
        "for i in numbers:\n",
        "  print(i)"
      ],
      "metadata": {
        "colab": {
          "base_uri": "https://localhost:8080/"
        },
        "id": "aXkLXlrcTfdT",
        "outputId": "3fdad1c4-19c3-4280-b064-cc1e0e455de4"
      },
      "execution_count": 12,
      "outputs": [
        {
          "output_type": "stream",
          "name": "stdout",
          "text": [
            "50\n",
            "100\n",
            "150\n",
            "200\n"
          ]
        }
      ]
    },
    {
      "cell_type": "code",
      "source": [],
      "metadata": {
        "id": "rLlxT0ZZTfa0"
      },
      "execution_count": null,
      "outputs": []
    },
    {
      "cell_type": "markdown",
      "source": [
        "While loop - useing when we not the range"
      ],
      "metadata": {
        "id": "lRCzuK-2UL6o"
      }
    },
    {
      "cell_type": "code",
      "source": [
        "i = 0\n",
        "while i <10:\n",
        "  print(i)\n",
        "  i +=1 # i = i +1\n",
        "  # as long as the i value is less than 10 the action will carried out up to 9\n",
        "\n"
      ],
      "metadata": {
        "colab": {
          "base_uri": "https://localhost:8080/"
        },
        "id": "pDdeF0ADTfYr",
        "outputId": "32fb85e5-0f02-4b8a-a19b-c6106d6f5118"
      },
      "execution_count": 17,
      "outputs": [
        {
          "output_type": "stream",
          "name": "stdout",
          "text": [
            "0\n",
            "1\n",
            "2\n",
            "3\n",
            "4\n",
            "5\n",
            "6\n",
            "7\n",
            "8\n",
            "9\n"
          ]
        }
      ]
    },
    {
      "cell_type": "code",
      "source": [
        "i = 0\n",
        "while i <=10:\n",
        "  print(i)\n",
        "  i +=1 # i = i +1\n",
        "  # as long as the i value is less than 10 the action will carried out up to 10\n",
        "\n"
      ],
      "metadata": {
        "colab": {
          "base_uri": "https://localhost:8080/"
        },
        "id": "hnM-mxTLVXEK",
        "outputId": "58205e00-784a-4e00-83b5-4291bb66e7c3"
      },
      "execution_count": 18,
      "outputs": [
        {
          "output_type": "stream",
          "name": "stdout",
          "text": [
            "0\n",
            "1\n",
            "2\n",
            "3\n",
            "4\n",
            "5\n",
            "6\n",
            "7\n",
            "8\n",
            "9\n",
            "10\n"
          ]
        }
      ]
    },
    {
      "cell_type": "code",
      "source": [
        "i = 5\n",
        "while i<3:\n",
        "  print(i)\n",
        "  i +=1\n"
      ],
      "metadata": {
        "id": "c0Ug4A61TfWW"
      },
      "execution_count": 20,
      "outputs": []
    },
    {
      "cell_type": "code",
      "source": [],
      "metadata": {
        "id": "O6M3tunoTfTv"
      },
      "execution_count": null,
      "outputs": []
    },
    {
      "cell_type": "code",
      "source": [],
      "metadata": {
        "id": "0WLq89rSTfRp"
      },
      "execution_count": null,
      "outputs": []
    },
    {
      "cell_type": "code",
      "source": [
        "2\n"
      ],
      "metadata": {
        "id": "joNn2sHdTVN_"
      },
      "execution_count": null,
      "outputs": []
    }
  ]
}