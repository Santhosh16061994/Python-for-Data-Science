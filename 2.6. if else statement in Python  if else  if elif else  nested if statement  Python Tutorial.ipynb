{
  "cells": [
    {
      "cell_type": "markdown",
      "metadata": {
        "id": "9yPP5tJoRu3j"
      },
      "source": [
        "simple if else statement"
      ]
    },
    {
      "cell_type": "code",
      "execution_count": 1,
      "metadata": {
        "colab": {
          "base_uri": "https://localhost:8080/"
        },
        "id": "aGRxtmdPQgBb",
        "outputId": "881f0bdb-7cf2-40ce-b5ab-8a7c51943df8"
      },
      "outputs": [
        {
          "name": "stdout",
          "output_type": "stream",
          "text": [
            "b is the greatest number\n"
          ]
        }
      ],
      "source": [
        "a = 30\n",
        "b = 50\n",
        "\n",
        "if (a>b):\n",
        "  print('a is the greatest number')\n",
        "else:\n",
        "  print('b is the greatest number')"
      ]
    },
    {
      "cell_type": "code",
      "execution_count": 2,
      "metadata": {
        "colab": {
          "base_uri": "https://localhost:8080/"
        },
        "id": "r7lrPWXqEyB0",
        "outputId": "8d805a30-6f1b-418d-8b2a-1277bc2669e9"
      },
      "outputs": [
        {
          "name": "stdout",
          "output_type": "stream",
          "text": [
            "50\n"
          ]
        }
      ],
      "source": [
        "a = 30\n",
        "b = 50\n",
        "\n",
        "if (a>b):\n",
        "  print(a)\n",
        "else:\n",
        "    print(b)\n"
      ]
    },
    {
      "cell_type": "code",
      "execution_count": 3,
      "metadata": {
        "colab": {
          "base_uri": "https://localhost:8080/"
        },
        "id": "EA-GuWDzGJfa",
        "outputId": "81c8cdd6-ed5c-4a19-9dae-42bb8103c62f"
      },
      "outputs": [
        {
          "name": "stdout",
          "output_type": "stream",
          "text": [
            "b is grt\n"
          ]
        }
      ],
      "source": [
        "a = 30\n",
        "b = 50\n",
        "\n",
        "if (a>b):\n",
        "  print('a is grt')\n",
        "else:\n",
        "    print('b is grt')"
      ]
    },
    {
      "cell_type": "code",
      "execution_count": 4,
      "metadata": {
        "colab": {
          "base_uri": "https://localhost:8080/"
        },
        "id": "nUFrXZovSGIZ",
        "outputId": "6ecee5ab-551c-4cf4-cc2d-0d9c541ebd7f"
      },
      "outputs": [
        {
          "ename": "ValueError",
          "evalue": "invalid literal for int() with base 10: ''",
          "output_type": "error",
          "traceback": [
            "\u001b[1;31m---------------------------------------------------------------------------\u001b[0m",
            "\u001b[1;31mValueError\u001b[0m                                Traceback (most recent call last)",
            "Cell \u001b[1;32mIn [4], line 1\u001b[0m\n\u001b[1;32m----> 1\u001b[0m a \u001b[39m=\u001b[39m \u001b[39mint\u001b[39;49m(\u001b[39minput\u001b[39;49m(\u001b[39m'\u001b[39;49m\u001b[39mEnter the first number : \u001b[39;49m\u001b[39m'\u001b[39;49m))\n\u001b[0;32m      2\u001b[0m b \u001b[39m=\u001b[39m \u001b[39mint\u001b[39m(\u001b[39minput\u001b[39m(\u001b[39m'\u001b[39m\u001b[39mEnter the second number : \u001b[39m\u001b[39m'\u001b[39m))\n\u001b[0;32m      4\u001b[0m \u001b[39mif\u001b[39;00m (a\u001b[39m>\u001b[39mb):\n",
            "\u001b[1;31mValueError\u001b[0m: invalid literal for int() with base 10: ''"
          ]
        }
      ],
      "source": [
        "a = int(input('Enter the first number : '))\n",
        "b = int(input('Enter the second number : '))\n",
        "\n",
        "if (a>b):\n",
        "  print('First number is the greatest')\n",
        "else:\n",
        "  print('Second number is the greatest')"
      ]
    },
    {
      "cell_type": "code",
      "execution_count": null,
      "metadata": {
        "colab": {
          "base_uri": "https://localhost:8080/"
        },
        "id": "Tubk8taTGWhy",
        "outputId": "3b974bac-bf4b-4257-94d5-07824ccae234"
      },
      "outputs": [
        {
          "name": "stdout",
          "output_type": "stream",
          "text": [
            "enter the 1 num2\n",
            "enter the 2 num1\n",
            "1 num is grt\n"
          ]
        }
      ],
      "source": [
        " a = int(input('enter the 1 num')) # asking input from user\n",
        " b = int(input('enter the 2 num'))\n",
        "\n",
        " if (a>b):\n",
        "   print('1 num is grt' )\n",
        "else:\n",
        "   print('2 num is grt' )"
      ]
    },
    {
      "cell_type": "code",
      "execution_count": null,
      "metadata": {
        "id": "j7Tgug-GGWNU"
      },
      "outputs": [],
      "source": []
    },
    {
      "cell_type": "markdown",
      "metadata": {
        "id": "GJixx9xSSoo-"
      },
      "source": [
        "if elif else statement - it will gvie only one satemet is true"
      ]
    },
    {
      "cell_type": "code",
      "execution_count": null,
      "metadata": {
        "colab": {
          "base_uri": "https://localhost:8080/"
        },
        "id": "y_LUudPwSX6I",
        "outputId": "d4e25b8f-cba9-405a-b34e-d003b14e277a"
      },
      "outputs": [
        {
          "name": "stdout",
          "output_type": "stream",
          "text": [
            "c is the greatest number\n"
          ]
        }
      ],
      "source": [
        "a = 15\n",
        "b = 25\n",
        "c = 30\n",
        "\n",
        "if (b<a>c):\n",
        "  print('a is the greatest number')\n",
        "elif (a<b>c):\n",
        "  print('b is the greatest number')\n",
        "else:\n",
        "  print('c is the greatest number')\n"
      ]
    },
    {
      "cell_type": "code",
      "execution_count": null,
      "metadata": {
        "colab": {
          "base_uri": "https://localhost:8080/"
        },
        "id": "VGTaXS0eHcTL",
        "outputId": "7be59d3c-4478-42d1-c0f6-3812a4ab7a50"
      },
      "outputs": [
        {
          "name": "stdout",
          "output_type": "stream",
          "text": [
            "c is big\n"
          ]
        }
      ],
      "source": [
        "a = 15\n",
        "b  = 20\n",
        "c = 25\n",
        "\n",
        "if (b<a>c):\n",
        "  print('a is big')\n",
        "elif (a<b>c):\n",
        "  print('b is big')\n",
        "else: \n",
        "  print('c is big')\n"
      ]
    },
    {
      "cell_type": "code",
      "execution_count": null,
      "metadata": {
        "colab": {
          "base_uri": "https://localhost:8080/"
        },
        "id": "xHB3BGS0IUds",
        "outputId": "d992a0d2-c6c4-43b5-8a1a-36543c89ba33"
      },
      "outputs": [
        {
          "name": "stdout",
          "output_type": "stream",
          "text": [
            "a is big\n"
          ]
        }
      ],
      "source": [
        "a = 30\n",
        "b  = 20\n",
        "c = 25\n",
        "\n",
        "if (b<a>c):\n",
        "  print('a is big')\n",
        "elif (a<b>c):\n",
        "  print('b is big')\n",
        "else: \n",
        "  print('c is big')"
      ]
    },
    {
      "cell_type": "code",
      "execution_count": null,
      "metadata": {
        "colab": {
          "base_uri": "https://localhost:8080/"
        },
        "id": "Pj5PNYL4IXFD",
        "outputId": "32fccf40-0669-406f-b7d3-fa074b9a1c86"
      },
      "outputs": [
        {
          "name": "stdout",
          "output_type": "stream",
          "text": [
            "b is big\n"
          ]
        }
      ],
      "source": [
        "a = 15\n",
        "b  = 50\n",
        "c = 30\n",
        "\n",
        "if (b<a>c):\n",
        "  print('a is big')\n",
        "elif (a<b>c):\n",
        "  print('b is big')\n",
        "else: \n",
        "  print('c is big')"
      ]
    },
    {
      "cell_type": "markdown",
      "metadata": {
        "id": "qxs5I_j2I3aS"
      },
      "source": [
        "Below one is not giving output correctly"
      ]
    },
    {
      "cell_type": "code",
      "execution_count": null,
      "metadata": {
        "colab": {
          "base_uri": "https://localhost:8080/"
        },
        "id": "v4pEYX0jIc56",
        "outputId": "b8386763-7fc1-4e3e-b872-9e438e2f8041"
      },
      "outputs": [
        {
          "name": "stdout",
          "output_type": "stream",
          "text": [
            "c is big\n"
          ]
        }
      ],
      "source": [
        "a = 10\n",
        "b  = 10\n",
        "c = 8\n",
        "\n",
        "if (b<a>c):\n",
        "  print('a is big')\n",
        "elif (a<b>c):\n",
        "  print('b is big')\n",
        "else: \n",
        "  print('c is big')"
      ]
    },
    {
      "cell_type": "markdown",
      "metadata": {
        "id": "cr5QqpJBTe2N"
      },
      "source": [
        "nested if statement"
      ]
    },
    {
      "cell_type": "code",
      "execution_count": null,
      "metadata": {
        "colab": {
          "base_uri": "https://localhost:8080/"
        },
        "id": "YXooMdY1Tb8Z",
        "outputId": "8d2bb5a2-0894-4236-fee9-3a2d13f3c811"
      },
      "outputs": [
        {
          "name": "stdout",
          "output_type": "stream",
          "text": [
            "c is the greatest number\n"
          ]
        }
      ],
      "source": [
        "a = 20\n",
        "b = 40\n",
        "c = 60\n",
        "\n",
        "if (a>b):\n",
        "  if (a>c):\n",
        "    print('a is the greatest number')\n",
        "  else:\n",
        "    print('c is the greatest number')\n",
        "else:\n",
        "  if (b>c):\n",
        "    print('b is the greatest number')\n",
        "  else:\n",
        "    print('c is the greatest number') "
      ]
    },
    {
      "cell_type": "code",
      "execution_count": null,
      "metadata": {
        "colab": {
          "base_uri": "https://localhost:8080/"
        },
        "id": "yRzsFcP9JqLF",
        "outputId": "590ddb77-5713-4660-823d-d84b3725501a"
      },
      "outputs": [
        {
          "name": "stdout",
          "output_type": "stream",
          "text": [
            "c is big\n"
          ]
        }
      ],
      "source": [
        "a = 1 # we use when we having 3 condition and if else and if condiction so itr called nested condiction\n",
        "b = 4\n",
        "c = 10\n",
        "\n",
        "if (a>b):\n",
        "  if (a>b):\n",
        "    print('a is big')\n",
        "  else:\n",
        "    print('c is big')\n",
        "else:\n",
        "  if (b>c):\n",
        "    print('a is big')\n",
        "  else:\n",
        "    print('c is big')"
      ]
    },
    {
      "cell_type": "code",
      "execution_count": null,
      "metadata": {
        "id": "jMO2ZyVEJqHu"
      },
      "outputs": [],
      "source": [
        "# indentation is more importan in for or eif else fuctions"
      ]
    },
    {
      "cell_type": "code",
      "execution_count": null,
      "metadata": {
        "id": "d1jIWFJQUaa_"
      },
      "outputs": [],
      "source": []
    }
  ],
  "metadata": {
    "colab": {
      "provenance": []
    },
    "kernelspec": {
      "display_name": "Python 3",
      "language": "python",
      "name": "python3"
    },
    "language_info": {
      "codemirror_mode": {
        "name": "ipython",
        "version": 3
      },
      "file_extension": ".py",
      "mimetype": "text/x-python",
      "name": "python",
      "nbconvert_exporter": "python",
      "pygments_lexer": "ipython3",
      "version": "3.11.0"
    },
    "vscode": {
      "interpreter": {
        "hash": "f4a1bfae62880f6cb447e765afab1bd625c712943ceb09ad5ec6b36f28c4f1e6"
      }
    }
  },
  "nbformat": 4,
  "nbformat_minor": 0
}
