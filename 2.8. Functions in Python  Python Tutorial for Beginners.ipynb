{
  "nbformat": 4,
  "nbformat_minor": 0,
  "metadata": {
    "colab": {
      "provenance": []
    },
    "kernelspec": {
      "name": "python3",
      "display_name": "Python 3"
    }
  },
  "cells": [
    {
      "cell_type": "markdown",
      "metadata": {
        "id": "P6doAW5l8ba2"
      },
      "source": [
        "Functions: \n",
        "\n",
        "Function is a block of code that can be reused in a Program"
      ]
    },
    {
      "cell_type": "markdown",
      "metadata": {
        "id": "3YuBEtBR86X8"
      },
      "source": [
        "Factorial of a Number"
      ]
    },
    {
      "cell_type": "code",
      "source": [],
      "metadata": {
        "id": "5P0YPY_yWlQG"
      },
      "execution_count": null,
      "outputs": []
    },
    {
      "cell_type": "markdown",
      "metadata": {
        "id": "Z8ySi-x58_8w"
      },
      "source": [
        "Factorial of a number is the product of all the positive integers less than or equal to the given number"
      ]
    },
    {
      "cell_type": "markdown",
      "metadata": {
        "id": "3tUJEQyC9LLh"
      },
      "source": [
        "Factorial of 5 = 5 x 4 x 3 x 2 x 1 = 120"
      ]
    },
    {
      "cell_type": "code",
      "metadata": {
        "colab": {
          "base_uri": "https://localhost:8080/"
        },
        "id": "Z3F1xOof8LbY",
        "outputId": "4d5de7e4-5e2f-4e89-bb54-740c1e6b899f"
      },
      "source": [
        "number = int(input(' Enter a number to find its factorial : '))\n",
        "\n",
        "factorial = 1\n",
        "\n",
        "if number == 0:\n",
        "  print(' The Factorial of 0 is 1')\n",
        "\n",
        "else:\n",
        "  for i in range(1, number+1):    \n",
        "    factorial = factorial*i\n",
        "\n",
        "  print('The factorial of ',number,' is',factorial)   "
      ],
      "execution_count": 20,
      "outputs": [
        {
          "output_type": "stream",
          "name": "stdout",
          "text": [
            " Enter a number to find its factorial : 4\n",
            "The factorial of  4  is 24\n"
          ]
        }
      ]
    },
    {
      "cell_type": "code",
      "source": [
        "# code is incorrectly working..... because indentation is mismatching\n",
        "num = int(input('enter the factorial num :'))\n",
        "\n",
        "factorial = 1\n",
        "\n",
        "if num == 0:\n",
        "  print ('The Factorial of 0 is 1')\n",
        "\n",
        "else:\n",
        "  for i in range(1, num+1):\n",
        "    factorial = factorial*i\n",
        "\n",
        "  print('the factorial of',num,'is',factorial)"
      ],
      "metadata": {
        "id": "6u0jR-UHXXH3",
        "colab": {
          "base_uri": "https://localhost:8080/"
        },
        "outputId": "51bdf240-e59c-45c4-b049-686e35b67491"
      },
      "execution_count": 21,
      "outputs": [
        {
          "output_type": "stream",
          "name": "stdout",
          "text": [
            "enter the factorial num :2\n",
            "the factorial of 2 is 2\n"
          ]
        }
      ]
    },
    {
      "cell_type": "markdown",
      "metadata": {
        "id": "3Rv9GbOh-7XI"
      },
      "source": [
        "Factoraial Function"
      ]
    },
    {
      "cell_type": "code",
      "metadata": {
        "id": "pZH6ilR8-uQh"
      },
      "source": [
        "def factorial_value(num):\n",
        "\n",
        "  factorial = 1\n",
        "\n",
        "  if num == 0:\n",
        "    return factorial\n",
        "\n",
        "  else:\n",
        "    for i in range(1, num+1):\n",
        "      factorial = factorial*i\n",
        "    return factorial"
      ],
      "execution_count": null,
      "outputs": []
    },
    {
      "cell_type": "code",
      "metadata": {
        "colab": {
          "base_uri": "https://localhost:8080/"
        },
        "id": "Nwf8f6su_ige",
        "outputId": "983dcfbf-e5fd-4770-918a-795fccc59eb2"
      },
      "source": [
        "print(factorial_value(5))"
      ],
      "execution_count": null,
      "outputs": [
        {
          "output_type": "stream",
          "text": [
            "120\n"
          ],
          "name": "stdout"
        }
      ]
    },
    {
      "cell_type": "code",
      "metadata": {
        "colab": {
          "base_uri": "https://localhost:8080/"
        },
        "id": "YXEVZyna_oKL",
        "outputId": "e9513dbd-4314-4d9c-d719-4eccb05867cd"
      },
      "source": [
        "print(factorial_value(10))"
      ],
      "execution_count": null,
      "outputs": [
        {
          "output_type": "stream",
          "text": [
            "3628800\n"
          ],
          "name": "stdout"
        }
      ]
    },
    {
      "cell_type": "code",
      "metadata": {
        "colab": {
          "base_uri": "https://localhost:8080/"
        },
        "id": "Gk0kwebb_y3U",
        "outputId": "f7532445-7844-4ffb-cf00-ee1086416724"
      },
      "source": [
        "print(factorial_value(6))"
      ],
      "execution_count": null,
      "outputs": [
        {
          "output_type": "stream",
          "text": [
            "720\n"
          ],
          "name": "stdout"
        }
      ]
    },
    {
      "cell_type": "code",
      "metadata": {
        "id": "n9R58coF_8Nr"
      },
      "source": [
        "def factorial_value(num): # indentaion matters a lot\n",
        "  factorial = 1\n",
        "  if  num == 0:\n",
        "    return factorial\n",
        "\n",
        "  else:\n",
        "    for i in range(1, num+1):\n",
        "      factorial = factorial*i\n",
        "    return factorial\n",
        "\n"
      ],
      "execution_count": 35,
      "outputs": []
    },
    {
      "cell_type": "code",
      "source": [
        "print(factorial_value(3))"
      ],
      "metadata": {
        "colab": {
          "base_uri": "https://localhost:8080/"
        },
        "id": "Ohm-y9evpfKs",
        "outputId": "e0b06b46-3496-490f-99a5-9da25a834f98"
      },
      "execution_count": 34,
      "outputs": [
        {
          "output_type": "stream",
          "name": "stdout",
          "text": [
            "6\n"
          ]
        }
      ]
    },
    {
      "cell_type": "code",
      "source": [],
      "metadata": {
        "id": "yQnfsAwXql26"
      },
      "execution_count": null,
      "outputs": []
    }
  ]
}